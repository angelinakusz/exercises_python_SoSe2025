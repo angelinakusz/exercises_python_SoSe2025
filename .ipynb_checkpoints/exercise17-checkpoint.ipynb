{
 "cells": [
  {
   "cell_type": "code",
   "execution_count": 1,
   "id": "75f6976b-4088-4bfa-b4be-e2eef7bb1c16",
   "metadata": {},
   "outputs": [],
   "source": [
    "import pandas as pd"
   ]
  },
  {
   "cell_type": "code",
   "execution_count": 5,
   "id": "17f3b2ab-afa6-46fc-a1d2-74f9f8f979bf",
   "metadata": {},
   "outputs": [],
   "source": [
    "file_names = [\"AAPL\", \"GOOG\", \"META\", \"MSFT\"]\n",
    "\n",
    "data_frames = {}\n",
    "\n",
    "for file_name in file_names:\n",
    "    file_path = f\"data/{file_name}.csv\"\n",
    "    data_frames[file_name] = pd.read_csv(file_path)\n",
    "aapl = data_frames[\"AAPL\"][[\"Date\", \"Close\"]].rename(columns = {\"Close\": \"AAPL\"})\n",
    "goog = data_frames[\"GOOG\"][[\"Date\", \"Close\"]].rename(columns = {\"Close\": \"GOOG\"})\n",
    "meta = data_frames[\"META\"][[\"Date\", \"Close\"]].rename(columns = {\"Close\": \"META\"})\n",
    "msft = data_frames[\"MSFT\"][[\"Date\", \"Close\"]].rename(columns = {\"Close\": \"MSFT\"})"
   ]
  },
  {
   "cell_type": "code",
   "execution_count": 6,
   "id": "2425d5de-7573-4681-afa1-792ecbdee790",
   "metadata": {},
   "outputs": [
    {
     "data": {
      "text/html": [
       "<div>\n",
       "<style scoped>\n",
       "    .dataframe tbody tr th:only-of-type {\n",
       "        vertical-align: middle;\n",
       "    }\n",
       "\n",
       "    .dataframe tbody tr th {\n",
       "        vertical-align: top;\n",
       "    }\n",
       "\n",
       "    .dataframe thead th {\n",
       "        text-align: right;\n",
       "    }\n",
       "</style>\n",
       "<table border=\"1\" class=\"dataframe\">\n",
       "  <thead>\n",
       "    <tr style=\"text-align: right;\">\n",
       "      <th></th>\n",
       "      <th>Date</th>\n",
       "      <th>AAPL</th>\n",
       "      <th>GOOG</th>\n",
       "      <th>META</th>\n",
       "      <th>MSFT</th>\n",
       "    </tr>\n",
       "  </thead>\n",
       "  <tbody>\n",
       "    <tr>\n",
       "      <th>0</th>\n",
       "      <td>1980-12-12</td>\n",
       "      <td>0.128348</td>\n",
       "      <td>NaN</td>\n",
       "      <td>NaN</td>\n",
       "      <td>NaN</td>\n",
       "    </tr>\n",
       "    <tr>\n",
       "      <th>1</th>\n",
       "      <td>1980-12-15</td>\n",
       "      <td>0.121652</td>\n",
       "      <td>NaN</td>\n",
       "      <td>NaN</td>\n",
       "      <td>NaN</td>\n",
       "    </tr>\n",
       "    <tr>\n",
       "      <th>2</th>\n",
       "      <td>1980-12-16</td>\n",
       "      <td>0.112723</td>\n",
       "      <td>NaN</td>\n",
       "      <td>NaN</td>\n",
       "      <td>NaN</td>\n",
       "    </tr>\n",
       "    <tr>\n",
       "      <th>3</th>\n",
       "      <td>1980-12-17</td>\n",
       "      <td>0.115513</td>\n",
       "      <td>NaN</td>\n",
       "      <td>NaN</td>\n",
       "      <td>NaN</td>\n",
       "    </tr>\n",
       "    <tr>\n",
       "      <th>4</th>\n",
       "      <td>1980-12-18</td>\n",
       "      <td>0.118862</td>\n",
       "      <td>NaN</td>\n",
       "      <td>NaN</td>\n",
       "      <td>NaN</td>\n",
       "    </tr>\n",
       "  </tbody>\n",
       "</table>\n",
       "</div>"
      ],
      "text/plain": [
       "         Date      AAPL  GOOG  META  MSFT\n",
       "0  1980-12-12  0.128348   NaN   NaN   NaN\n",
       "1  1980-12-15  0.121652   NaN   NaN   NaN\n",
       "2  1980-12-16  0.112723   NaN   NaN   NaN\n",
       "3  1980-12-17  0.115513   NaN   NaN   NaN\n",
       "4  1980-12-18  0.118862   NaN   NaN   NaN"
      ]
     },
     "execution_count": 6,
     "metadata": {},
     "output_type": "execute_result"
    }
   ],
   "source": [
    "merged_data_AG = pd.merge(aapl, goog, on='Date', how='outer')\n",
    "merged_data_AGM = pd.merge(merged_data_AG, meta, on='Date', how='outer')\n",
    "df_final = pd.merge(merged_data_AGM, msft, on='Date', how='outer')\n",
    "df_final = df_final.reset_index(drop=True)\n",
    "df_final.head()"
   ]
  },
  {
   "cell_type": "code",
   "execution_count": 7,
   "id": "5bc3035d-7902-4325-8be4-472bab380838",
   "metadata": {},
   "outputs": [],
   "source": [
    "df_final.to_csv(\"data/stocks.csv\", sep = \",\", decimal = \".\")"
   ]
  }
 ],
 "metadata": {
  "kernelspec": {
   "display_name": "Python [conda env:base] *",
   "language": "python",
   "name": "conda-base-py"
  },
  "language_info": {
   "codemirror_mode": {
    "name": "ipython",
    "version": 3
   },
   "file_extension": ".py",
   "mimetype": "text/x-python",
   "name": "python",
   "nbconvert_exporter": "python",
   "pygments_lexer": "ipython3",
   "version": "3.12.7"
  }
 },
 "nbformat": 4,
 "nbformat_minor": 5
}
